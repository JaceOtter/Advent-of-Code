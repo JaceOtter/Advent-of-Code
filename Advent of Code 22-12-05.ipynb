{
 "cells": [
  {
   "cell_type": "markdown",
   "id": "fe018952-1006-4d70-ba48-cc7e8d5a0fc6",
   "metadata": {},
   "source": [
    "# Day 5: Supply Stacks"
   ]
  },
  {
   "cell_type": "markdown",
   "id": "accc0880-d21f-4665-a12b-751db681600e",
   "metadata": {},
   "source": [
    "https://adventofcode.com/2022/day/1"
   ]
  },
  {
   "cell_type": "markdown",
   "id": "6e5752f6",
   "metadata": {},
   "source": [
    "## Part 1"
   ]
  },
  {
   "cell_type": "markdown",
   "id": "a49b5117-d5d7-4835-9bf6-d6c3ddc92ee5",
   "metadata": {},
   "source": [
    "The expedition can depart as soon as the final supplies have been unloaded from the ships. Supplies are stored in stacks of marked crates, but because the needed supplies are buried under many other crates, the crates need to be rearranged.\n",
    "\n",
    "The ship has a giant cargo crane capable of moving crates between stacks. To ensure none of the crates get crushed or fall over, the crane operator will rearrange them in a series of carefully-planned steps. After the crates are rearranged, the desired crates will be at the top of each stack.\n",
    "\n",
    "The Elves don't want to interrupt the crane operator during this delicate procedure, but they forgot to ask her which crate will end up where, and they want to be ready to unload them as soon as possible so they can embark.\n",
    "\n",
    "They do, however, have a drawing of the starting stacks of crates and the rearrangement procedure (your puzzle input). For example:\n",
    "\n",
    "[_] [D] [_]\n",
    "\n",
    "[N] [C] [_]\n",
    "\n",
    "[Z] [M] [P]\n",
    "\n",
    " 1   2   3 \n",
    "\n",
    "move 1 from 2 to 1\n",
    "\n",
    "move 3 from 1 to 3\n",
    "\n",
    "move 2 from 2 to 1\n",
    "\n",
    "move 1 from 1 to 2\n",
    "\n",
    "In this example, there are three stacks of crates. Stack 1 contains two crates: crate Z is on the bottom, and crate N is on top. Stack 2 contains three crates; from bottom to top, they are crates M, C, and D. Finally, stack 3 contains a single crate, P.\n",
    "\n",
    "Then, the rearrangement procedure is given. In each step of the procedure, a quantity of crates is moved from one stack to a different stack. In the first step of the above rearrangement procedure, one crate is moved from stack 2 to stack 1, resulting in this configuration:\n",
    "\n",
    "[D] [_] [_]\n",
    "\n",
    "[N] [C] [_]\n",
    "\n",
    "[Z] [M] [P]\n",
    "\n",
    " 1   2   3 \n",
    "\n",
    "In the second step, three crates are moved from stack 1 to stack 3. Crates are moved one at a time, so the first crate to be moved (D) ends up below the second and third crates:\n",
    "\n",
    "[_] [_] [Z]\n",
    "\n",
    "[_] [_] [N]\n",
    "\n",
    "[_] [C] [D]\n",
    "\n",
    "[_] [M] [P]\n",
    "\n",
    " 1   2   3\n",
    "\n",
    "Then, both crates are moved from stack 2 to stack 1. Again, because crates are moved one at a time, crate C ends up below crate M:\n",
    "\n",
    "        [Z]\n",
    "        [N]\n",
    "[M]     [D]\n",
    "[C]     [P]\n",
    " 1   2   3\n",
    "Finally, one crate is moved from stack 1 to stack 2:\n",
    "\n",
    "[_] [_] [Z]\n",
    "\n",
    "[_] [_] [N]\n",
    "\n",
    "[_] [_] [D]\n",
    "\n",
    "[C] [M] [P]\n",
    "\n",
    " 1   2   3\n",
    " \n",
    "The Elves just need to know which crate will end up on top of each stack; in this example, the top crates are C in stack 1, M in stack 2, and Z in stack 3, so you should combine these together and give the Elves the message CMZ.\n",
    "\n",
    "After the rearrangement procedure completes, what crate ends up on top of each stack?"
   ]
  },
  {
   "cell_type": "code",
   "execution_count": 1,
   "id": "baabeca4-e7b4-4539-9a80-409b6fc38993",
   "metadata": {},
   "outputs": [],
   "source": [
    "with open('22-12-05-input.txt') as f:\n",
    "    lines = f.readlines()   "
   ]
  },
  {
   "cell_type": "code",
   "execution_count": 2,
   "id": "11d1f00e",
   "metadata": {},
   "outputs": [
    {
     "name": "stdout",
     "output_type": "stream",
     "text": [
      "HBTMTBSDC\n"
     ]
    }
   ],
   "source": [
    "col = []\n",
    "n = len(lines[0].strip().split())\n",
    "for k in range(n):\n",
    "    col.append(\"\")\n",
    "\n",
    "for i in range(len(lines)):\n",
    "    line = lines[i].strip().split()\n",
    "\n",
    "    if line[0][0] == \"[\":\n",
    "        for j in range(n):\n",
    "            if line[j] == \"[_]\":\n",
    "                continue\n",
    "            else:\n",
    "                col[j] = col[j] + line[j][1]\n",
    "                \n",
    "    elif line[0] == \"1\":\n",
    "        continue\n",
    "        \n",
    "    else:\n",
    "        num = int( line[1] )\n",
    "        fro = int( line[3] ) - 1\n",
    "        too = int( line[5] ) - 1\n",
    "        \n",
    "        for l in range(num):\n",
    "            nf = len(col[fro])\n",
    "            col[too] = col[fro][0] + col[too]\n",
    "            col[fro] = col[fro][1:nf]\n",
    "\n",
    "out = \"\"\n",
    "for m in range(n):\n",
    "    out = out + col[m][0]\n",
    "print(out)"
   ]
  },
  {
   "cell_type": "markdown",
   "id": "ed508099",
   "metadata": {},
   "source": [
    "## Part 2"
   ]
  },
  {
   "cell_type": "markdown",
   "id": "910048e6-c069-435e-8728-553762eda0c6",
   "metadata": {},
   "source": [
    "As you watch the crane operator expertly rearrange the crates, you notice the process isn't following your prediction.\n",
    "\n",
    "Some mud was covering the writing on the side of the crane, and you quickly wipe it away. The crane isn't a CrateMover 9000 - it's a CrateMover 9001.\n",
    "\n",
    "The CrateMover 9001 is notable for many new and exciting features: air conditioning, leather seats, an extra cup holder, and the ability to pick up and move multiple crates at once.\n",
    "\n",
    "Again considering the example above, the crates begin in the same configuration:\n",
    "\n",
    "    [D]    \n",
    "[N] [C]    \n",
    "[Z] [M] [P]\n",
    " 1   2   3 \n",
    "Moving a single crate from stack 2 to stack 1 behaves the same as before:\n",
    "\n",
    "[D]        \n",
    "[N] [C]    \n",
    "[Z] [M] [P]\n",
    " 1   2   3 \n",
    "However, the action of moving three crates from stack 1 to stack 3 means that those three moved crates stay in the same order, resulting in this new configuration:\n",
    "\n",
    "        [D]\n",
    "        [N]\n",
    "    [C] [Z]\n",
    "    [M] [P]\n",
    " 1   2   3\n",
    "Next, as both crates are moved from stack 2 to stack 1, they retain their order as well:\n",
    "\n",
    "        [D]\n",
    "        [N]\n",
    "[C]     [Z]\n",
    "[M]     [P]\n",
    " 1   2   3\n",
    "Finally, a single crate is still moved from stack 1 to stack 2, but now it's crate C that gets moved:\n",
    "\n",
    "        [D]\n",
    "        [N]\n",
    "        [Z]\n",
    "[M] [C] [P]\n",
    " 1   2   3\n",
    "In this example, the CrateMover 9001 has put the crates in a totally different order: MCD.\n",
    "\n",
    "Before the rearrangement process finishes, update your simulation so that the Elves know where they should stand to be ready to unload the final supplies. After the rearrangement procedure completes, what crate ends up on top of each stack?"
   ]
  },
  {
   "cell_type": "code",
   "execution_count": 3,
   "id": "339a531e",
   "metadata": {},
   "outputs": [
    {
     "name": "stdout",
     "output_type": "stream",
     "text": [
      "PQTJRSHWS\n"
     ]
    }
   ],
   "source": [
    "col = []\n",
    "n = len(lines[0].strip().split())\n",
    "for k in range(n):\n",
    "    col.append(\"\")\n",
    "\n",
    "for i in range(len(lines)):\n",
    "    line = lines[i].strip().split()\n",
    "\n",
    "    if line[0][0] == \"[\":\n",
    "        for j in range(n):\n",
    "            if line[j] == \"[_]\":\n",
    "                continue\n",
    "            else:\n",
    "                col[j] = col[j] + line[j][1]\n",
    "                \n",
    "    elif line[0] == \"1\":\n",
    "        continue\n",
    "        \n",
    "    else:\n",
    "        num = int(line[1])\n",
    "        fro = int(line[3]) - 1\n",
    "        too = int(line[5]) - 1\n",
    "        \n",
    "        nf = len(col[fro])\n",
    "        col[too] = col[fro][0:num] + col[too]\n",
    "        col[fro] = col[fro][num:nf]\n",
    "\n",
    "out = \"\"\n",
    "for m in range(n):\n",
    "    out = out + col[m][0]\n",
    "print(out)"
   ]
  },
  {
   "cell_type": "code",
   "execution_count": null,
   "id": "5ef209bb-7555-4a21-8039-668375d765b0",
   "metadata": {},
   "outputs": [],
   "source": []
  }
 ],
 "metadata": {
  "kernelspec": {
   "display_name": "Python 3 (ipykernel)",
   "language": "python",
   "name": "python3"
  },
  "language_info": {
   "codemirror_mode": {
    "name": "ipython",
    "version": 3
   },
   "file_extension": ".py",
   "mimetype": "text/x-python",
   "name": "python",
   "nbconvert_exporter": "python",
   "pygments_lexer": "ipython3",
   "version": "3.9.12"
  }
 },
 "nbformat": 4,
 "nbformat_minor": 5
}
