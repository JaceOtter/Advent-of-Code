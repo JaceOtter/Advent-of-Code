{
 "cells": [
  {
   "cell_type": "markdown",
   "id": "ff99449f-4244-411b-af81-780193efaa64",
   "metadata": {},
   "source": [
    "# Day 3: Rucksack Reorganization"
   ]
  },
  {
   "cell_type": "markdown",
   "id": "a093f67d-10bb-4774-b5e9-816e85a2c747",
   "metadata": {},
   "source": [
    "https://adventofcode.com/2022/day/3"
   ]
  },
  {
   "cell_type": "markdown",
   "id": "c4114771-8cfe-4c91-82b7-659d4379446e",
   "metadata": {},
   "source": [
    "## Part 1"
   ]
  },
  {
   "cell_type": "markdown",
   "id": "15340ffa-d81e-408f-bf4a-255b4e31a559",
   "metadata": {},
   "source": [
    "One Elf has the important job of loading all of the rucksacks with supplies for the jungle journey. Unfortunately, that Elf didn't quite follow the packing instructions, and so a few items now need to be rearranged.\n",
    "\n",
    "Each rucksack has two large compartments. All items of a given type are meant to go into exactly one of the two compartments. The Elf that did the packing failed to follow this rule for exactly one item type per rucksack.\n",
    "\n",
    "The Elves have made a list of all of the items currently in each rucksack (your puzzle input), but they need your help finding the errors. Every item type is identified by a single lowercase or uppercase letter (that is, a and A refer to different types of items).\n",
    "\n",
    "The list of items for each rucksack is given as characters all on a single line. A given rucksack always has the same number of items in each of its two compartments, so the first half of the characters represent items in the first compartment, while the second half of the characters represent items in the second compartment.\n",
    "\n",
    "For example, suppose you have the following list of contents from six rucksacks:\n",
    "\n",
    "vJrwpWtwJgWrhcsFMMfFFhFp\n",
    "\n",
    "jqHRNqRjqzjGDLGLrsFMfFZSrLrFZsSL\n",
    "\n",
    "PmmdzqPrVvPwwTWBwg\n",
    "\n",
    "wMqvLMZHhHMvwLHjbvcjnnSBnvTQFn\n",
    "\n",
    "ttgJtRGJQctTZtZT\n",
    "\n",
    "CrZsJsPPZsGzwwsLwLmpwMDw\n",
    "\n",
    "The first rucksack contains the items vJrwpWtwJgWrhcsFMMfFFhFp, which means its first compartment contains the items vJrwpWtwJgWr, while the second compartment contains the items hcsFMMfFFhFp. The only item type that appears in both compartments is lowercase p.\n",
    "The second rucksack's compartments contain jqHRNqRjqzjGDLGL and rsFMfFZSrLrFZsSL. The only item type that appears in both compartments is uppercase L.\n",
    "The third rucksack's compartments contain PmmdzqPrV and vPwwTWBwg; the only common item type is uppercase P.\n",
    "The fourth rucksack's compartments only share item type v.\n",
    "The fifth rucksack's compartments only share item type t.\n",
    "The sixth rucksack's compartments only share item type s.\n",
    "To help prioritize item rearrangement, every item type can be converted to a priority:\n",
    "\n",
    "Lowercase item types a through z have priorities 1 through 26.\n",
    "Uppercase item types A through Z have priorities 27 through 52.\n",
    "In the above example, the priority of the item type that appears in both compartments of each rucksack is 16 (p), 38 (L), 42 (P), 22 (v), 20 (t), and 19 (s); the sum of these is 157.\n",
    "\n",
    "Find the item type that appears in both compartments of each rucksack. What is the sum of the priorities of those item types?"
   ]
  },
  {
   "cell_type": "code",
   "execution_count": 1,
   "id": "65948bcc",
   "metadata": {},
   "outputs": [],
   "source": [
    "def priority(inp):\n",
    "    ord_inp = ord(inp)\n",
    "    if 97 <= ord_inp and ord_inp <= 122:\n",
    "        return ord_inp - 96\n",
    "    elif 65 <= ord_inp and ord_inp <= 90:\n",
    "        return ord_inp - 64 + 26"
   ]
  },
  {
   "cell_type": "code",
   "execution_count": 2,
   "id": "466d433c-31f9-446f-a178-abd82b06831b",
   "metadata": {},
   "outputs": [],
   "source": [
    "with open('22-12-03-input.txt') as f:\n",
    "    lines = f.readlines()"
   ]
  },
  {
   "cell_type": "code",
   "execution_count": 3,
   "id": "96aa5225",
   "metadata": {
    "scrolled": true
   },
   "outputs": [
    {
     "name": "stdout",
     "output_type": "stream",
     "text": [
      "7581\n"
     ]
    }
   ],
   "source": [
    "s = 0\n",
    "for i in range(len(lines)):\n",
    "    line = lines[i].strip()\n",
    "    l = int(len(line)/2)\n",
    "    \n",
    "    b = False\n",
    "    for k in range(l):\n",
    "        for j in range(l,2*l):\n",
    "            if line[k] == line[j]:\n",
    "                s += priority(line[k])\n",
    "                b = True\n",
    "                break\n",
    "        if b:\n",
    "            break\n",
    "            \n",
    "print(s)"
   ]
  },
  {
   "cell_type": "markdown",
   "id": "848ca9a4",
   "metadata": {},
   "source": [
    "## Part 2"
   ]
  },
  {
   "cell_type": "markdown",
   "id": "131029ee-226f-41db-9a75-2e3b623b001e",
   "metadata": {},
   "source": [
    "\n",
    "As you finish identifying the misplaced items, the Elves come to you with another issue.\n",
    "\n",
    "For safety, the Elves are divided into groups of three. Every Elf carries a badge that identifies their group. For efficiency, within each group of three Elves, the badge is the only item type carried by all three Elves. That is, if a group's badge is item type B, then all three Elves will have item type B somewhere in their rucksack, and at most two of the Elves will be carrying any other item type.\n",
    "\n",
    "The problem is that someone forgot to put this year's updated authenticity sticker on the badges. All of the badges need to be pulled out of the rucksacks so the new authenticity stickers can be attached.\n",
    "\n",
    "Additionally, nobody wrote down which item type corresponds to each group's badges. The only way to tell which item type is the right one is by finding the one item type that is common between all three Elves in each group.\n",
    "\n",
    "Every set of three lines in your list corresponds to a single group, but each group can have a different badge item type. So, in the above example, the first group's rucksacks are the first three lines:\n",
    "\n",
    "vJrwpWtwJgWrhcsFMMfFFhFp\n",
    "\n",
    "jqHRNqRjqzjGDLGLrsFMfFZSrLrFZsSL\n",
    "\n",
    "PmmdzqPrVvPwwTWBwg\n",
    "\n",
    "And the second group's rucksacks are the next three lines:\n",
    "\n",
    "wMqvLMZHhHMvwLHjbvcjnnSBnvTQFn\n",
    "\n",
    "ttgJtRGJQctTZtZT\n",
    "\n",
    "CrZsJsPPZsGzwwsLwLmpwMDw\n",
    "\n",
    "In the first group, the only item type that appears in all three rucksacks is lowercase r; this must be their badges. In the second group, their badge item type must be Z.\n",
    "\n",
    "Priorities for these items must still be found to organize the sticker attachment efforts: here, they are 18 (r) for the first group and 52 (Z) for the second group. The sum of these is 70.\n",
    "\n",
    "Find the item type that corresponds to the badges of each three-Elf group. What is the sum of the priorities of those item types?"
   ]
  },
  {
   "cell_type": "code",
   "execution_count": 4,
   "id": "f51070df",
   "metadata": {},
   "outputs": [
    {
     "name": "stdout",
     "output_type": "stream",
     "text": [
      "2525\n"
     ]
    }
   ],
   "source": [
    "s = 0\n",
    "for i in range(int(len(lines)/3)):\n",
    "    line1 = lines[3*i].strip()\n",
    "    line2 = lines[3*i+1].strip()\n",
    "    line3 = lines[3*i+2].strip()\n",
    "    n1 = len(line1)\n",
    "    n2 = len(line2)\n",
    "    n3 = len(line3)\n",
    "    \n",
    "    b = False\n",
    "    for j in range(n1):\n",
    "        for k in range(n2):\n",
    "            if line1[j] == line2[k]:\n",
    "                for l in range(n3):\n",
    "                    if line1[j] == line3[l]:\n",
    "                        s += priority(line1[j])\n",
    "                        b = True\n",
    "                        break\n",
    "            if b:\n",
    "                break\n",
    "        if b:\n",
    "            break\n",
    "            \n",
    "print(s)"
   ]
  }
 ],
 "metadata": {
  "kernelspec": {
   "display_name": "Python 3 (ipykernel)",
   "language": "python",
   "name": "python3"
  },
  "language_info": {
   "codemirror_mode": {
    "name": "ipython",
    "version": 3
   },
   "file_extension": ".py",
   "mimetype": "text/x-python",
   "name": "python",
   "nbconvert_exporter": "python",
   "pygments_lexer": "ipython3",
   "version": "3.9.12"
  }
 },
 "nbformat": 4,
 "nbformat_minor": 5
}
