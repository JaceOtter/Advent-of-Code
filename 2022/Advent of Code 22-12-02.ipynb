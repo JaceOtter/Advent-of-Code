{
 "cells": [
  {
   "cell_type": "markdown",
   "id": "6b569c72-775b-4090-9ca5-6240add4930c",
   "metadata": {},
   "source": [
    "# Day 2: Rock Paper Scissors"
   ]
  },
  {
   "cell_type": "markdown",
   "id": "68c90e4b-e36f-42bb-b10e-bb34b9701fa9",
   "metadata": {},
   "source": [
    "https://adventofcode.com/2022/day/2"
   ]
  },
  {
   "cell_type": "markdown",
   "id": "afd7c484",
   "metadata": {},
   "source": [
    "# Part 1"
   ]
  },
  {
   "cell_type": "markdown",
   "id": "95bbc576-9895-43d5-a3af-d8fab867f7fc",
   "metadata": {},
   "source": [
    "The Elves begin to set up camp on the beach. To decide whose tent gets to be closest to the snack storage, a giant Rock Paper Scissors tournament is already in progress.\n",
    "\n",
    "Rock Paper Scissors is a game between two players. Each game contains many rounds; in each round, the players each simultaneously choose one of Rock, Paper, or Scissors using a hand shape. Then, a winner for that round is selected: Rock defeats Scissors, Scissors defeats Paper, and Paper defeats Rock. If both players choose the same shape, the round instead ends in a draw.\n",
    "\n",
    "Appreciative of your help yesterday, one Elf gives you an encrypted strategy guide (your puzzle input) that they say will be sure to help you win. \"The first column is what your opponent is going to play: A for Rock, B for Paper, and C for Scissors. The second column--\" Suddenly, the Elf is called away to help with someone's tent.\n",
    "\n",
    "The second column, you reason, must be what you should play in response: X for Rock, Y for Paper, and Z for Scissors. Winning every time would be suspicious, so the responses must have been carefully chosen.\n",
    "\n",
    "The winner of the whole tournament is the player with the highest score. Your total score is the sum of your scores for each round. The score for a single round is the score for the shape you selected (1 for Rock, 2 for Paper, and 3 for Scissors) plus the score for the outcome of the round (0 if you lost, 3 if the round was a draw, and 6 if you won).\n",
    "\n",
    "Since you can't be sure if the Elf is trying to help you or trick you, you should calculate the score you would get if you were to follow the strategy guide.\n",
    "\n",
    "For example, suppose you were given the following strategy guide:\n",
    "\n",
    "A Y\n",
    "B X\n",
    "C Z\n",
    "This strategy guide predicts and recommends the following:\n",
    "\n",
    "In the first round, your opponent will choose Rock (A), and you should choose Paper (Y). This ends in a win for you with a score of 8 (2 because you chose Paper + 6 because you won).\n",
    "In the second round, your opponent will choose Paper (B), and you should choose Rock (X). This ends in a loss for you with a score of 1 (1 + 0).\n",
    "The third round is a draw with both players choosing Scissors, giving you a score of 3 + 3 = 6.\n",
    "In this example, if you were to follow the strategy guide, you would get a total score of 15 (8 + 1 + 6).\n",
    "\n",
    "What would your total score be if everything goes exactly according to your strategy guide?"
   ]
  },
  {
   "cell_type": "code",
   "execution_count": 1,
   "id": "356f2458-3ce9-4ed3-8a27-3f145e1c0ef7",
   "metadata": {},
   "outputs": [],
   "source": [
    "def score1(opp,you):\n",
    "    if opp == \"A\":\n",
    "        if you == \"X\":\n",
    "            out = 3+1\n",
    "        elif you == \"Y\":\n",
    "            out = 6+2\n",
    "        else:\n",
    "            out = 0+3\n",
    "    elif opp == \"B\":\n",
    "        if you == \"Y\":\n",
    "            out = 3+2\n",
    "        elif you == \"Z\":\n",
    "            out = 6+3\n",
    "        else:\n",
    "            out = 0+1\n",
    "    elif opp == \"C\":\n",
    "        if you == \"Z\":\n",
    "            out = 3+3\n",
    "        elif you == \"X\":\n",
    "            out = 6+1\n",
    "        else:\n",
    "            out = 0+2\n",
    "    \n",
    "    return out"
   ]
  },
  {
   "cell_type": "code",
   "execution_count": 5,
   "id": "7d60b951-293b-48ec-bbfe-7deee27099e0",
   "metadata": {},
   "outputs": [],
   "source": [
    "with open('22-12-02-input.txt') as f:\n",
    "    lines = f.readlines()"
   ]
  },
  {
   "cell_type": "code",
   "execution_count": 6,
   "id": "8b8ebba4",
   "metadata": {},
   "outputs": [
    {
     "name": "stdout",
     "output_type": "stream",
     "text": [
      "11873\n"
     ]
    }
   ],
   "source": [
    "YourScore = 0\n",
    "for i in range(len(lines)):\n",
    "    line = lines[i].split()\n",
    "    YourScore += score1(line[0],line[1])\n",
    "print(YourScore)"
   ]
  },
  {
   "cell_type": "markdown",
   "id": "307d3d20-f5d5-4795-9d1d-e71242ac29c8",
   "metadata": {},
   "source": [
    "## Part 2"
   ]
  },
  {
   "cell_type": "markdown",
   "id": "db420046-a92b-4e22-ae28-b05edc17d26c",
   "metadata": {},
   "source": [
    "The Elf finishes helping with the tent and sneaks back over to you. \"Anyway, the second column says how the round needs to end: X means you need to lose, Y means you need to end the round in a draw, and Z means you need to win. Good luck!\"\n",
    "\n",
    "The total score is still calculated in the same way, but now you need to figure out what shape to choose so the round ends as indicated. The example above now goes like this:\n",
    "\n",
    "In the first round, your opponent will choose Rock (A), and you need the round to end in a draw (Y), so you also choose Rock. This gives you a score of 1 + 3 = 4.\n",
    "In the second round, your opponent will choose Paper (B), and you choose Rock so you lose (X) with a score of 1 + 0 = 1.\n",
    "In the third round, you will defeat your opponent's Scissors with Rock for a score of 1 + 6 = 7.\n",
    "Now that you're correctly decrypting the ultra top secret strategy guide, you would get a total score of 12.\n",
    "\n",
    "Following the Elf's instructions for the second column, what would your total score be if everything goes exactly according to your strategy guide?"
   ]
  },
  {
   "cell_type": "code",
   "execution_count": 3,
   "id": "f9ab9c2a-4925-42cf-97fd-95e3594e142f",
   "metadata": {},
   "outputs": [],
   "source": [
    "def score2(opp,you):\n",
    "    if you == \"X\":\n",
    "        out = 0\n",
    "        if opp == \"A\":\n",
    "            out += 3\n",
    "        elif opp == \"B\":\n",
    "            out += 1\n",
    "        else:\n",
    "            out += 2\n",
    "    elif you == \"Y\":\n",
    "        out = 3\n",
    "        if opp == \"A\":\n",
    "            out += 1\n",
    "        elif opp == \"B\":\n",
    "            out += 2\n",
    "        else:\n",
    "            out += 3\n",
    "    else:\n",
    "        out = 6\n",
    "        if opp == \"A\":\n",
    "            out += 2\n",
    "        elif opp == \"B\":\n",
    "            out += 3\n",
    "        else:\n",
    "            out += 1\n",
    "    \n",
    "    return out"
   ]
  },
  {
   "cell_type": "code",
   "execution_count": 4,
   "id": "c50c562c",
   "metadata": {},
   "outputs": [
    {
     "name": "stdout",
     "output_type": "stream",
     "text": [
      "12014\n"
     ]
    }
   ],
   "source": [
    "YourScore = 0\n",
    "for i in range(len(lines)):\n",
    "    line = lines[i].split()\n",
    "    YourScore += score2(line[0],line[1])\n",
    "print(YourScore)"
   ]
  }
 ],
 "metadata": {
  "kernelspec": {
   "display_name": "Python 3 (ipykernel)",
   "language": "python",
   "name": "python3"
  },
  "language_info": {
   "codemirror_mode": {
    "name": "ipython",
    "version": 3
   },
   "file_extension": ".py",
   "mimetype": "text/x-python",
   "name": "python",
   "nbconvert_exporter": "python",
   "pygments_lexer": "ipython3",
   "version": "3.9.12"
  }
 },
 "nbformat": 4,
 "nbformat_minor": 5
}
