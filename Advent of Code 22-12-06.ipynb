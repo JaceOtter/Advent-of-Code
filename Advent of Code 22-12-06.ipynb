{
 "cells": [
  {
   "cell_type": "markdown",
   "id": "6ae49ba5-f97f-4fe8-b0c9-0eba4e701241",
   "metadata": {},
   "source": [
    "# Day 6: Tuning Trouble"
   ]
  },
  {
   "cell_type": "markdown",
   "id": "255c4ae1-8da8-49f7-9ea1-c1a8931aabe3",
   "metadata": {},
   "source": [
    "https://adventofcode.com/2022/day/6"
   ]
  },
  {
   "cell_type": "markdown",
   "id": "b6ddfda5",
   "metadata": {},
   "source": [
    "# Part 1"
   ]
  },
  {
   "cell_type": "markdown",
   "id": "a5eb70a5-6c9a-4e84-a501-34371d404ee8",
   "metadata": {},
   "source": [
    "The preparations are finally complete; you and the Elves leave camp on foot and begin to make your way toward the star fruit grove.\n",
    "\n",
    "As you move through the dense undergrowth, one of the Elves gives you a handheld device. He says that it has many fancy features, but the most important one to set up right now is the communication system.\n",
    "\n",
    "However, because he's heard you have significant experience dealing with signal-based systems, he convinced the other Elves that it would be okay to give you their one malfunctioning device - surely you'll have no problem fixing it.\n",
    "\n",
    "As if inspired by comedic timing, the device emits a few colorful sparks.\n",
    "\n",
    "To be able to communicate with the Elves, the device needs to lock on to their signal. The signal is a series of seemingly-random characters that the device receives one at a time.\n",
    "\n",
    "To fix the communication system, you need to add a subroutine to the device that detects a start-of-packet marker in the datastream. In the protocol being used by the Elves, the start of a packet is indicated by a sequence of four characters that are all different.\n",
    "\n",
    "The device will send your subroutine a datastream buffer (your puzzle input); your subroutine needs to identify the first position where the four most recently received characters were all different. Specifically, it needs to report the number of characters from the beginning of the buffer to the end of the first such four-character marker.\n",
    "\n",
    "For example, suppose you receive the following datastream buffer:\n",
    "\n",
    "mjqjpqmgbljsphdztnvjfqwrcgsmlb\n",
    "\n",
    "After the first three characters (mjq) have been received, there haven't been enough characters received yet to find the marker. The first time a marker could occur is after the fourth character is received, making the most recent four characters mjqj. Because j is repeated, this isn't a marker.\n",
    "\n",
    "The first time a marker appears is after the seventh character arrives. Once it does, the last four characters received are jpqm, which are all different. In this case, your subroutine should report the value 7, because the first start-of-packet marker is complete after 7 characters have been processed.\n",
    "\n",
    "Here are a few more examples:\n",
    "\n",
    "bvwbjplbgvbhsrlpgdmjqwftvncz: first marker after character 5\n",
    "\n",
    "nppdvjthqldpwncqszvftbrmjlhg: first marker after character 6\n",
    "\n",
    "nznrnfrfntjfmvfwmzdfjlvtqnbhcprsg: first marker after character 10\n",
    "\n",
    "zcfzfwzzqfrljwzlrfnpqdbhtmscgvjw: first marker after character 11\n",
    "\n",
    "How many characters need to be processed before the first start-of-packet marker is detected?"
   ]
  },
  {
   "cell_type": "code",
   "execution_count": 1,
   "id": "f4334232",
   "metadata": {},
   "outputs": [],
   "source": [
    "def unique(inp):\n",
    "    n = len(inp)\n",
    "    for i in range(n-1):\n",
    "        for j in range(i+1,n):\n",
    "            if inp[i] == inp[j]:\n",
    "                return False\n",
    "    return True"
   ]
  },
  {
   "cell_type": "code",
   "execution_count": 2,
   "id": "3ffdd17f",
   "metadata": {},
   "outputs": [
    {
     "name": "stdout",
     "output_type": "stream",
     "text": [
      "1109\n"
     ]
    }
   ],
   "source": [
    "with open('22-12-06-input.txt') as f:\n",
    "    lines = f.readlines()    \n",
    "    \n",
    "for i in range(len(lines)):\n",
    "    line = lines[i].strip()\n",
    "    four_char = []\n",
    "    for j in range(len(line)):\n",
    "        four_char.append(line[j])\n",
    "        if j == 3:\n",
    "            if unique(four_char):\n",
    "                print(j+1)\n",
    "                break\n",
    "        elif j > 3:\n",
    "            four_char.pop(0)\n",
    "            if unique(four_char):\n",
    "                print(j+1)\n",
    "                break"
   ]
  },
  {
   "cell_type": "markdown",
   "id": "3de69e14",
   "metadata": {},
   "source": [
    "# Part 2"
   ]
  },
  {
   "cell_type": "markdown",
   "id": "cf35a0eb-2ff4-4256-aca8-a7e6577add03",
   "metadata": {},
   "source": [
    "Your device's communication system is correctly detecting packets, but still isn't working. It looks like it also needs to look for messages.\n",
    "\n",
    "A start-of-message marker is just like a start-of-packet marker, except it consists of 14 distinct characters rather than 4.\n",
    "\n",
    "Here are the first positions of start-of-message markers for all of the above examples:\n",
    "\n",
    "mjqjpqmgbljsphdztnvjfqwrcgsmlb: first marker after character 19\n",
    "\n",
    "bvwbjplbgvbhsrlpgdmjqwftvncz: first marker after character 23\n",
    "\n",
    "nppdvjthqldpwncqszvftbrmjlhg: first marker after character 23\n",
    "\n",
    "nznrnfrfntjfmvfwmzdfjlvtqnbhcprsg: first marker after character 29\n",
    "\n",
    "zcfzfwzzqfrljwzlrfnpqdbhtmscgvjw: first marker after character 26\n",
    "\n",
    "How many characters need to be processed before the first start-of-message marker is detected?"
   ]
  },
  {
   "cell_type": "code",
   "execution_count": 3,
   "id": "a1bae5b0",
   "metadata": {},
   "outputs": [
    {
     "name": "stdout",
     "output_type": "stream",
     "text": [
      "3965\n"
     ]
    }
   ],
   "source": [
    "for i in range(len(lines)):\n",
    "    line = lines[i].strip()\n",
    "    fourteen_char = []\n",
    "    for j in range(len(line)):\n",
    "        fourteen_char.append(line[j])\n",
    "        if j == 13:\n",
    "            if unique(fourteen_char):\n",
    "                print(j+1)\n",
    "                break\n",
    "        elif j > 13:\n",
    "            fourteen_char.pop(0)\n",
    "            if unique(fourteen_char):\n",
    "                print(j+1)\n",
    "                break"
   ]
  }
 ],
 "metadata": {
  "kernelspec": {
   "display_name": "Python 3 (ipykernel)",
   "language": "python",
   "name": "python3"
  },
  "language_info": {
   "codemirror_mode": {
    "name": "ipython",
    "version": 3
   },
   "file_extension": ".py",
   "mimetype": "text/x-python",
   "name": "python",
   "nbconvert_exporter": "python",
   "pygments_lexer": "ipython3",
   "version": "3.9.12"
  }
 },
 "nbformat": 4,
 "nbformat_minor": 5
}
